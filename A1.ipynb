{
 "cells": [
  {
   "cell_type": "markdown",
   "metadata": {},
   "source": [
    "Number:\n",
    "\n",
    "Student Number:\n",
    "\n",
    "Name:\n",
    "\n",
    "Department:\n",
    "\n",
    "在微信公众号“聪明的机器爱学习”回复“序号”查看自己的序号。Name 和 Department 均需要中文填写。"
   ]
  },
  {
   "cell_type": "markdown",
   "metadata": {},
   "source": [
    "**Question 1 (understanding overfitting)**: this question is about linear regression and overfitting phenomenon. Please follow the following step:\n",
    "\n",
    "- import numpy and matplotlib.pyplot. These two packages are needed."
   ]
  },
  {
   "cell_type": "code",
   "execution_count": 183,
   "metadata": {},
   "outputs": [],
   "source": [
    "import numpy as np\n",
    "import matplotlib.pyplot as plt"
   ]
  },
  {
   "cell_type": "markdown",
   "metadata": {},
   "source": [
    "Generating data. In this simulation, there is only one feature whose value is between 0 and 10. The linear model is $y = 3x+2$. However, the there are noises in the collected data. Number of samples is 100. np.random.seed is to used to control the generated random variables are the same across computers."
   ]
  },
  {
   "cell_type": "code",
   "execution_count": 184,
   "metadata": {},
   "outputs": [],
   "source": [
    "np.random.seed(3)\n",
    "x = np.linspace(0,10,100)\n",
    "y = np.ones((100))*2 + 3*x + np.random.randn(100)*5 # standard deviation of the noise is 5"
   ]
  },
  {
   "cell_type": "markdown",
   "metadata": {},
   "source": [
    "Training, validation and testing data are drawn from the data"
   ]
  },
  {
   "cell_type": "code",
   "execution_count": 185,
   "metadata": {},
   "outputs": [],
   "source": [
    "n = 100\n",
    "index = np.arange(0,100, 1) # index of samples running from 0 to 99\n",
    "index = np.random.permutation(index) # randomly permute the index\n",
    "train = index[0:70]\n",
    "test = index[70:90]\n",
    "val = index[90:100]\n",
    "\n",
    "xTrain = x[train]\n",
    "yTrain = y[train]\n",
    "\n",
    "xTest = x[test]\n",
    "yTest = y[test]\n",
    "\n",
    "xVal = x[val]\n",
    "yVal = y[val]"
   ]
  },
  {
   "cell_type": "markdown",
   "metadata": {},
   "source": [
    "If the model is $y = \\alpha_0 + \\alpha_1x + \\alpha_2x^2+\\cdots+\\alpha_kx^k$, features are $x, x^2, \\cdots, x^k$. $x$ being given, we need to create features $x^2, x^3, \\cdots, x^k$. feature method is to create features. Inputs are a feature vector and an order k and the return value is an numpy array with $i$th column being $k$th order of the input feature."
   ]
  },
  {
   "cell_type": "code",
   "execution_count": 186,
   "metadata": {},
   "outputs": [],
   "source": [
    "def feature(x, order):\n",
    "    # input: x is a vector\n",
    "    #        order is an positive integer\n",
    "    # output: an numpy array\n",
    "    #--------\n",
    "    # x = np.array([2,3]) \n",
    "    # feature(x, 2)\n",
    "    # array([[1, 2, 4],\n",
    "    #        [1,3, 9])   "
   ]
  },
  {
   "cell_type": "markdown",
   "metadata": {},
   "source": [
    "In the class, parameter for linear regression model is estimated as $(X^TX)^{-1}X^Ty$ with $X$ and $y$ the data and labels in training data. LR method is to compute the coefficients for linear regression model. There are three input arguments, which are the training data, training labels and order, respectively. In LR method, we firstly compute features needed and then compute the coefficients."
   ]
  },
  {
   "cell_type": "code",
   "execution_count": 187,
   "metadata": {},
   "outputs": [],
   "source": [
    "def LR(x, y, order):\n",
    "    # input: x is a vector\n",
    "    #        y represents labels for x\n",
    "    #        order is an positive integer k\n",
    "    # output: a numpy array\n",
    "    \n",
    "    # (1) compute features. Use feature method defined just now\n",
    "    \n",
    "    # (2) compute coefficients"
   ]
  },
  {
   "cell_type": "markdown",
   "metadata": {},
   "source": [
    "Once coefficients for linear regression model are available, we could use linear regression model for prediction. The job of prediction is to predict labels for the given feature vector or data. prediction method does the prediction job. There are three input arguments, which are feature vector, estimated coefficients and the order k. The returned value is a vector representing the predicted labels for the input feature vector."
   ]
  },
  {
   "cell_type": "code",
   "execution_count": 188,
   "metadata": {},
   "outputs": [],
   "source": [
    "def prediction(x, para, order):\n",
    "    # input: x is a feature vector\n",
    "    #       para is an numpy array representing estimated coefficients\n",
    "    #       order is the order k\n",
    "    # output: a vector representing the predicted labels\n",
    "    \n",
    "    # to do (1) compute features. Use feature method defined just now\n",
    "    \n",
    "    # to do (2) compute the predicted labels"
   ]
  },
  {
   "cell_type": "markdown",
   "metadata": {},
   "source": [
    "Loss function is to evaluate the discrenpency between the predicted label and the true label. In the class loss function based on two norm square is defined as\n",
    "\\begin{align}\n",
    "L = \\frac{1}{n}\\|\\boldsymbol{y} - \\hat{\\boldsymbol{y}}\\|_2^2\n",
    "\\end{align}\n",
    ", where n represents the number of samples.\n",
    "\n",
    "loss method is to compute the loss. Note that np.linalg.norm method is to compute the norm of a vector."
   ]
  },
  {
   "cell_type": "code",
   "execution_count": 189,
   "metadata": {},
   "outputs": [],
   "source": [
    "def loss(y, yhat):\n",
    "    # input: y is a vector representing the true labels\n",
    "    #        yhat is a vector representing the predicted labels\n",
    "    # output: a scalar representing the loss\n",
    "    \n",
    "    # to do"
   ]
  },
  {
   "cell_type": "markdown",
   "metadata": {},
   "source": [
    "plot method is to plot the predicted curve and the testing pionts. You do not need to do anything in plot method."
   ]
  },
  {
   "cell_type": "code",
   "execution_count": 190,
   "metadata": {},
   "outputs": [],
   "source": [
    "def plot(x, y, para, order, title):\n",
    "    X = feature(np.linspace(0,10,100), order)\n",
    "    plt.figure()\n",
    "    plt.plot(x, y,'r*', label = 'observed data')\n",
    "    plt.plot(np.linspace(0,10,100), X.dot(para), label = 'predicted regression line')\n",
    "    plt.xlabel('x')\n",
    "    plt.ylabel('y')\n",
    "    plt.legend()\n",
    "    plt.title(title)\n",
    "    plt.show()"
   ]
  },
  {
   "cell_type": "markdown",
   "metadata": {},
   "source": [
    "In the following code, we create different models with k varying from 1 to 6. "
   ]
  },
  {
   "cell_type": "code",
   "execution_count": null,
   "metadata": {},
   "outputs": [],
   "source": [
    "for order in range(1,10):\n",
    "    print('k = ', order)\n",
    "    para = LR(xTrain, yTrain, order)\n",
    "    X = feature(xTrain, order)\n",
    "    print(\"Training Loss: %.2f\"%loss(yTrain, X.dot(para)))\n",
    "    X = feature(xTest, order)\n",
    "    print(\"Testing Loss: %.2f\"%loss(yTest, X.dot(para)))\n",
    "    plot(xTrain, yTrain, para, order, 'Training data')\n",
    "    plot(xTest, yTest, para, order, 'Testing data')"
   ]
  },
  {
   "cell_type": "markdown",
   "metadata": {},
   "source": [
    "**Question 2 (simulation of Monte Hall problem)**: If you are the player in Monte Hall problem, what should you do? The followings are some facts and analysis\n",
    "\n",
    "- there are in total three doors. One door hides a car and the other two hide a goat for each.\n",
    "We do not know which door hides the car, but Monte knows.\n",
    "\n",
    "- you randomly pick one doors in three. \n",
    "\n",
    "- The probability that your selection is one of the two doors with a goat is 2/3.\n",
    "In this case, with probability 1 Monte will open the door with the other goat, because he cannot open the door with the car.\n",
    "You can only win a car by switching doors. \n",
    "\n",
    "- The probability that your selection is the door with the car is 1/3. \n",
    "In this case, with probability 1/2 Monte can open either of the other doors, since they both contain goats.\n",
    "But, if you switch doors at this time, you will win a goat. \n",
    "\n",
    "You could also create code to simulate the Monte Hall problem. \n",
    "\n",
    "1. Create a wrapper function that allows you to run the simulation n = 1000 times, with a switch or not switch strategy. \n",
    "\n",
    "2. Create a function named random_door, which uses numpy.random.choice to Bernoulli sample 1 door randomly from a list of integer door indices (1-3 in this case). \n",
    "Use this function to ramdomly select the door the car is behind and the contestant’s initial choice of doors. \n",
    "\n",
    "3. Create a function monte_choice, which chooses the door Monte opens, conditional on the contestant’s choice of doors and the door with the car. \n",
    "For the case where the contestant has selected the door with the car, select the door to open by simulating the flip of a fair coin using the np.random.binomial function with n = 1. \n",
    "\n",
    "4. Create a function win_car, which determines if the contestant wins the car, conditional on the strategy selected, {switch, noswitch}, the door the contestant selected, the door with the car, and the door Monte opened. \n",
    "\n",
    "5. Execute your simulation for each possible strategy. \n",
    "For the two strategies, plot side by side bar charts showing the numbers of successes and failures for each strategy. \n",
    "\n",
    "6. Describe the strategy a constestant should adopt for this game. \n",
    "How much will the chosen strategy change the probability of winning a car? Is this result consistent with the conditonal probability of this problem."
   ]
  },
  {
   "cell_type": "markdown",
   "metadata": {},
   "source": [
    "Your solution "
   ]
  },
  {
   "cell_type": "markdown",
   "metadata": {},
   "source": [
    "**Quesion 3 (understanding posterior)**: Suppose a certain disease has an incidence rate of 0.1% (that is, it afflicts 0.1% of the population). A test has been devised to detect this disease. The test does not produce false negatives (that is, anyone who has the disease will test positive for it), but the false positive rate is 5% (that is, about 5% of people who take the test will test positive, even though they do not have the disease). Suppose a randomly selected person takes the test and tests positive. What is the probability that this person actually has the disease?"
   ]
  },
  {
   "cell_type": "markdown",
   "metadata": {},
   "source": [
    "Your solution"
   ]
  }
 ],
 "metadata": {
  "kernelspec": {
   "display_name": "Python 3",
   "language": "python",
   "name": "python3"
  },
  "language_info": {
   "codemirror_mode": {
    "name": "ipython",
    "version": 3
   },
   "file_extension": ".py",
   "mimetype": "text/x-python",
   "name": "python",
   "nbconvert_exporter": "python",
   "pygments_lexer": "ipython3",
   "version": "3.7.7"
  }
 },
 "nbformat": 4,
 "nbformat_minor": 4
}
